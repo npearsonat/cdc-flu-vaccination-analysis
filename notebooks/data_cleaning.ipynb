{
 "cells": [
  {
   "cell_type": "markdown",
   "id": "318b09aa-e8c4-424c-a57a-428f9ee73e0f",
   "metadata": {},
   "source": [
    "# Data Cleaning\n",
    "\n",
    "Deal with null values and final touches"
   ]
  },
  {
   "cell_type": "code",
   "execution_count": 1,
   "id": "3b94f439-9bbc-4b59-97c2-9414a534f4fa",
   "metadata": {},
   "outputs": [
    {
     "name": "stderr",
     "output_type": "stream",
     "text": [
      "C:\\Users\\npear\\AppData\\Local\\Temp\\ipykernel_3692\\4174884606.py:4: DtypeWarning: Columns (4,5) have mixed types. Specify dtype option on import or set low_memory=False.\n",
      "  df = pd.read_csv('data/joint_df_export.csv')\n"
     ]
    }
   ],
   "source": [
    "import pandas as pd\n",
    "import numpy as np\n",
    "\n",
    "df = pd.read_csv('data/joint_df_export.csv')"
   ]
  },
  {
   "cell_type": "code",
   "execution_count": 2,
   "id": "554d513c-7085-487d-b747-a02073f7bdd8",
   "metadata": {},
   "outputs": [],
   "source": [
    "df.dropna(subset=['state_coverage','insurance_accepted','walkins_accepted','latitude','zip'], inplace=True)"
   ]
  },
  {
   "cell_type": "code",
   "execution_count": 3,
   "id": "6e68c91b-862b-44a7-92b1-d5f1339c591c",
   "metadata": {},
   "outputs": [],
   "source": [
    "mask = df['s.18_49_years_at_high_risk'].isna()\n",
    "df.loc[mask, 's.18_49_years_at_high_risk'] = 36.6"
   ]
  },
  {
   "cell_type": "code",
   "execution_count": 4,
   "id": "4982f9f3-f118-47d2-8dac-b970f410b713",
   "metadata": {
    "scrolled": true
   },
   "outputs": [
    {
     "data": {
      "text/plain": [
       "loc_name                                     0\n",
       "loc_admin_city                               0\n",
       "loc_admin_state                              0\n",
       "loc_admin_zip                                0\n",
       "insurance_accepted                           0\n",
       "walkins_accepted                             0\n",
       "supply_level                                 0\n",
       "latitude                                     0\n",
       "longitude                                    0\n",
       "weekly_hours_open                            0\n",
       "zip5                                         0\n",
       "zip                                          0\n",
       "county_name                                  0\n",
       "state_coverage                               0\n",
       "s.13_17_years                                0\n",
       "s.18_49_years                                0\n",
       "s.18_49_years_at_high_risk                   0\n",
       "s.18_49_years_not_at_high_risk               0\n",
       "s.18_64_years                                0\n",
       "s.18_64_years_at_high_risk                   0\n",
       "s.18_64_years_not_at_high_risk               0\n",
       "s.5_12_years                                 0\n",
       "s.50_64_years                                0\n",
       "s.6_months___17_years                        0\n",
       "s.6_months___4_years                         0\n",
       "s.black_non_hispanic                      2109\n",
       "s.greater_65                                 0\n",
       "s.greater_than_18_years_flu                  0\n",
       "s.greater_than_6_months_flu                  0\n",
       "s.hispanic                                   0\n",
       "s.other_or_multiple_races_non_hispanic       0\n",
       "s.white_non_hispanic                         0\n",
       "dtype: int64"
      ]
     },
     "execution_count": 4,
     "metadata": {},
     "output_type": "execute_result"
    }
   ],
   "source": [
    "df.isnull().sum()"
   ]
  },
  {
   "cell_type": "code",
   "execution_count": 5,
   "id": "e9524c7f-0a8c-47de-853c-03bea2466a64",
   "metadata": {},
   "outputs": [],
   "source": [
    "df.to_csv(\"data_finalized.csv\", index=False)"
   ]
  }
 ],
 "metadata": {
  "kernelspec": {
   "display_name": "Python 3 (ipykernel)",
   "language": "python",
   "name": "python3"
  },
  "language_info": {
   "codemirror_mode": {
    "name": "ipython",
    "version": 3
   },
   "file_extension": ".py",
   "mimetype": "text/x-python",
   "name": "python",
   "nbconvert_exporter": "python",
   "pygments_lexer": "ipython3",
   "version": "3.12.7"
  }
 },
 "nbformat": 4,
 "nbformat_minor": 5
}
